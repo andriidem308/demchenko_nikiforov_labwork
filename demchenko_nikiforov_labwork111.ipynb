{
 "cells": [
  {
   "cell_type": "markdown",
   "metadata": {
    "collapsed": true,
    "pycharm": {
     "name": "#%% md\n"
    }
   },
   "source": [
    "***Лабораторна робота<br>***\n",
    "*Виконали студенти 3 курсу<br>\n",
    "групи \"Комп'ютерна математика\"<br>\n",
    "Демченко Андрій та Нікіфоров Олександр<br>*\n"
   ]
  },
  {
   "cell_type": "markdown",
   "source": [
    "Імпортуємо потрібні бібліотеки"
   ],
   "metadata": {
    "collapsed": false
   }
  },
  {
   "cell_type": "code",
   "execution_count": 720,
   "outputs": [],
   "source": [
    "import pandas as pd\n",
    "import numpy as np\n",
    "import matplotlib.pyplot as plt"
   ],
   "metadata": {
    "collapsed": false,
    "pycharm": {
     "name": "#%%\n"
    }
   }
  },
  {
   "cell_type": "markdown",
   "source": [
    "Глобальні змінні"
   ],
   "metadata": {
    "collapsed": false
   }
  },
  {
   "cell_type": "code",
   "execution_count": 721,
   "outputs": [],
   "source": [
    "N_TRAIN = 150\n",
    "N_TEST = 20"
   ],
   "metadata": {
    "collapsed": false,
    "pycharm": {
     "name": "#%%\n"
    }
   }
  },
  {
   "cell_type": "markdown",
   "source": [
    "***Пункт№1.***<br>\n",
    "Загружаємо датасет та виводимо данні. Якщо уважно проаналізувати даний датасет, можна помітити що параметри датасета є нерівноцінними."
   ],
   "metadata": {
    "collapsed": false
   }
  },
  {
   "cell_type": "code",
   "execution_count": 722,
   "outputs": [
    {
     "name": "stdout",
     "output_type": "stream",
     "text": [
      "    age  anaemia  creatinine_phosphokinase  diabetes  ejection_fraction  \\\n",
      "0  75.0        0                       582         0                 20   \n",
      "1  55.0        0                      7861         0                 38   \n",
      "2  65.0        0                       146         0                 20   \n",
      "3  50.0        1                       111         0                 20   \n",
      "4  65.0        1                       160         1                 20   \n",
      "\n",
      "   high_blood_pressure  platelets  serum_creatinine  serum_sodium  sex  \\\n",
      "0                    1  265000.00               1.9           130    1   \n",
      "1                    0  263358.03               1.1           136    1   \n",
      "2                    0  162000.00               1.3           129    1   \n",
      "3                    0  210000.00               1.9           137    1   \n",
      "4                    0  327000.00               2.7           116    0   \n",
      "\n",
      "   smoking  time  DEATH_EVENT  \n",
      "0        0     4            1  \n",
      "1        0     6            1  \n",
      "2        1     7            1  \n",
      "3        0     7            1  \n",
      "4        0     8            1  \n"
     ]
    }
   ],
   "source": [
    "dataset = pd.read_csv('heart_failure_clinical_records_dataset.csv')\n",
    "titles = ['age', 'anaemia', 'creatinine_phosphokinase', 'diabetes',\n",
    "          'ejection_fraction', 'high_blood_pressure', 'platelets',\n",
    "          'serum_creatinine', 'serum_sodium', 'sex', 'smoking', 'time']\n",
    "print(dataset.head())\n",
    "\n",
    "FEATURE_NAMES = ['age', 'anaemia', 'high_blood_pressure', 'serum_sodium', 'sex', 'smoking']\n",
    "size = len(FEATURE_NAMES)\n",
    "\n",
    "x_df = np.array(dataset[FEATURE_NAMES]).reshape((299, size))\n",
    "y_df = np.asarray(dataset['DEATH_EVENT'])\n",
    "\n",
    "xy_shuffled = np.c_[x_df, y_df]\n",
    "np.random.shuffle(xy_shuffled)\n",
    "\n",
    "x_shuffled, y_shuffled = xy_shuffled[:, :size], xy_shuffled[:, size:]\n"
   ],
   "metadata": {
    "collapsed": false,
    "pycharm": {
     "name": "#%%\n"
    }
   }
  },
  {
   "cell_type": "markdown",
   "source": [
    "***Пункт№3.***<br>\n",
    "Оптимізатор Momentum.<br>"
   ],
   "metadata": {
    "collapsed": false
   }
  },
  {
   "cell_type": "code",
   "execution_count": 723,
   "outputs": [],
   "source": [
    "class Momentum:\n",
    "    def __init__(self, num_features=1, lr=0.01):\n",
    "        self.m = np.zeros((num_features, 1))\n",
    "        self.lr = lr\n",
    "\n",
    "    def optimize_weights(self, weights, grads):\n",
    "        self.m = (1 - self.lr) * self.m + self.lr * grads\n",
    "        # new_weights = weights - self.lr * self.m\n",
    "        new_weights = weights - self.m\n",
    "\n",
    "        return new_weights"
   ],
   "metadata": {
    "collapsed": false,
    "pycharm": {
     "name": "#%%\n"
    }
   }
  },
  {
   "cell_type": "markdown",
   "source": [
    "***Пункт№2.***<br>\n",
    "Логістична регресія з регуляризацією L1.<br>"
   ],
   "metadata": {
    "collapsed": false
   }
  },
  {
   "cell_type": "code",
   "execution_count": 724,
   "outputs": [],
   "source": [
    "class LogR:\n",
    "    def __init__(self, num_features=1, alpha=0.05):\n",
    "        self.W = np.zeros((num_features, 1))\n",
    "        self.M, self.V, self.t = 0, 0, 1\n",
    "        self.optimizer = Momentum(num_features)\n",
    "        self.eps = 0.001\n",
    "        self.alpha = alpha\n",
    "        # self.eps = 0\n",
    "\n",
    "    def predict(self, X):\n",
    "        y = 1 / (1 + np.exp(- (X @ self.W)))\n",
    "        return y\n",
    "\n",
    "    def predict_proba(self, X):\n",
    "        y = self.predict(X)\n",
    "        return np.where(y >= 0.5, 1, 0)\n",
    "\n",
    "    def conv(self, arr):\n",
    "        res = np.inf\n",
    "        if len(arr) > 2:\n",
    "            res = np.abs(np.mean(arr) - np.mean(arr[:-1]))\n",
    "        return res\n",
    "\n",
    "    def batch_split(self, X, Y, size):\n",
    "        features = np.c_[X, Y]\n",
    "        np.random.shuffle(features)\n",
    "        features = np.array(np.split(features, range(size, features.shape[0], size)))\n",
    "        return features\n",
    "\n",
    "    def fit_batches(self, X, y_true, size=32, n_iters=10000, epsil=0.0001):\n",
    "        n_iter = 0\n",
    "        losses = []\n",
    "        reg_losses = []\n",
    "        while (n_iter < n_iters) and (self.conv(losses) > epsil):\n",
    "            n_iter += 1\n",
    "            current_losses = []\n",
    "            current_reg_losses = []\n",
    "            mini_batches = self.batch_split(X, y_true, size)\n",
    "            for batch in mini_batches:\n",
    "                x_small, y_small = batch[:, :-1], batch[:, -1].reshape(-1, 1)\n",
    "                loss, grads, reg_loss = self.one_step_opt(x_small, y_small)\n",
    "                current_losses.append(loss)\n",
    "                current_reg_losses.append(reg_loss)\n",
    "            losses.append(np.mean(current_losses))\n",
    "            reg_losses.append(np.mean(current_reg_losses))\n",
    "        return np.array(losses), np.array(reg_losses)\n",
    "\n",
    "    def one_step_opt(self, X, y_true):\n",
    "        grad_reg = self.alpha * np.sign(self.W)\n",
    "        grad_reg[0, 0] = 0\n",
    "        reg_loss = np.sum(self.alpha * np.abs(self.W)) ###\n",
    "        grads = - X.T @ (y_true - X @ self.W) / X.shape[0] + grad_reg ###\n",
    "        self.W = self.optimizer.optimize_weights(self.W, grads)\n",
    "\n",
    "        loss = np.sum((y_true - self.predict(X)).T @ (y_true - self.predict(X))) / X.shape[0]\n",
    "        return loss, grads, reg_loss\n",
    "\n",
    "    def fit(self, x_train, y_train, n_iters=10000, epsil=0.00001):\n",
    "        losses = []\n",
    "        n_iter = 0\n",
    "        while (n_iter < n_iters) and (self.conv(losses) > epsil):\n",
    "            n_iter += 1\n",
    "            t_loss, grads, reg_loss = self.one_step_opt(x_train, y_train)\n",
    "\n",
    "            losses.append(t_loss)\n",
    "\n",
    "        return losses\n",
    "\n",
    "    def fit_and_check(self, x_train, y_train, x_valid, y_valid, n_iters=10000, epsil=0.00001):\n",
    "        losses = []\n",
    "        valid_losses = []\n",
    "        reg_losses = []\n",
    "        n_iter = 0\n",
    "        while (n_iter < n_iters) and (self.conv(losses) > epsil):\n",
    "            n_iter += 1\n",
    "            t_loss, grads, reg_loss = self.one_step_opt(x_train, y_train)\n",
    "            pr=self.predict(x_valid)\n",
    "            losses.append(t_loss)\n",
    "            reg_losses.append(reg_loss)\n",
    "            v_loss = np.sum(-y_valid * np.log(pr + self.eps) -\n",
    "                            (1 - y_valid) * np.log(1 - pr + self.eps)) / x_valid.shape[0]\n",
    "            valid_losses.append(v_loss)\n",
    "\n",
    "        y_true = self.predict_proba(x_valid)\n",
    "        accuracy = np.sum(np.where(y_valid == y_true, 1, 0)) / y_valid.shape[0]\n",
    "        y_t = self.predict(x_valid)\n",
    "        return losses, valid_losses, reg_losses, accuracy\n"
   ],
   "metadata": {
    "collapsed": false,
    "pycharm": {
     "name": "#%%\n"
    }
   }
  },
  {
   "cell_type": "markdown",
   "source": [
    "***Пункт№5.***<br>\n",
    "Вчимо побудовану модель з параметром регуляризації 0 (без регуляризації) і переконуємось, що вона коректно навчилась.<br>\n",
    "***Пункт№6.***<br>\n",
    "Нормалізація данних min-max. Побудування моделі з пункта №5. Порівняння швидкостей. Графіки втрат по ітераціям.<br>"
   ],
   "metadata": {
    "collapsed": false
   }
  },
  {
   "cell_type": "code",
   "execution_count": 725,
   "outputs": [
    {
     "data": {
      "text/plain": "<Figure size 432x288 with 1 Axes>",
      "image/png": "[encoded data removed]"
     },
     "metadata": {
      "needs_background": "light"
     },
     "output_type": "display_data"
    }
   ],
   "source": [
    "def normalize_std(X):\n",
    "    min_f = np.amin(X, axis=0)\n",
    "    max_f = np.amax(X, axis=0)\n",
    "    result = (X - min_f) / (max_f - min_f)\n",
    "    return result\n",
    "\n",
    "x = normalize_std(x_shuffled)\n",
    "y = y_shuffled[:]\n",
    "\n",
    "x_train, y_train, = x[:N_TRAIN], y[:N_TRAIN].reshape(N_TRAIN, 1)\n",
    "x_test, y_test = x[N_TRAIN:N_TRAIN + N_TEST], y[N_TRAIN:N_TRAIN + N_TEST].reshape(N_TEST, 1)\n",
    "\n",
    "lr = LogR(num_features=size, alpha=0)\n",
    "losses = lr.fit(x_train, y_train)\n",
    "plt.plot(losses)\n",
    "plt.show()\n",
    "\n"
   ],
   "metadata": {
    "collapsed": false,
    "pycharm": {
     "name": "#%%\n"
    }
   }
  },
  {
   "cell_type": "markdown",
   "source": [
    "***Пункт№4.***<br>\n",
    "Реалізуємо mini-batch навчання з розміром батча B=32.<br>"
   ],
   "metadata": {
    "collapsed": false
   }
  },
  {
   "cell_type": "code",
   "execution_count": 726,
   "outputs": [
    {
     "name": "stderr",
     "output_type": "stream",
     "text": [
      "<ipython-input-724-5ca935f76025>:27: VisibleDeprecationWarning: Creating an ndarray from ragged nested sequences (which is a list-or-tuple of lists-or-tuples-or ndarrays with different lengths or shapes) is deprecated. If you meant to do this, you must specify 'dtype=object' when creating the ndarray\n",
      "  features = np.array(np.split(features, range(size, features.shape[0], size)))\n"
     ]
    },
    {
     "data": {
      "text/plain": "<Figure size 432x288 with 1 Axes>",
      "image/png": "[encoded data removed]"
     },
     "metadata": {
      "needs_background": "light"
     },
     "output_type": "display_data"
    },
    {
     "data": {
      "text/plain": "<Figure size 432x288 with 1 Axes>",
      "image/png": "[encoded data removed]"
     },
     "metadata": {
      "needs_background": "light"
     },
     "output_type": "display_data"
    }
   ],
   "source": [
    "BATCH_SIZE = 32\n",
    "lr = LogR(num_features=size, alpha=0.1)\n",
    "losses, reg_losses = lr.fit_batches(x_train, y_train, size=BATCH_SIZE)\n",
    "\n",
    "plt.figure(1);\n",
    "plt.plot(losses)\n",
    "plt.figure(2);\n",
    "plt.plot(reg_losses)\n",
    "plt.show()"
   ],
   "metadata": {
    "collapsed": false,
    "pycharm": {
     "name": "#%%\n"
    }
   }
  },
  {
   "cell_type": "markdown",
   "source": [
    "***Пункт№7.***<br>\n",
    "Реалізація оцінки точності за допомогою метода кросс-валідації з K=5 фолдами, без регуляризації."
   ],
   "metadata": {
    "collapsed": false
   }
  },
  {
   "cell_type": "code",
   "execution_count": 727,
   "outputs": [],
   "source": [
    "def create_fold(X, Y, folds, k):\n",
    "    features = np.c_[X, Y]\n",
    "    r = int(features.shape[0] / folds)\n",
    "    x1 = np.array([]) if k == 0 else features[0:k * r, :]\n",
    "    x3 = np.array([]) if k == r - 1 else features[k * r + r:, :]\n",
    "\n",
    "    xy_valid = features[k * r:(k * r + r), :]\n",
    "\n",
    "    if k == 0: xy_train = x3\n",
    "    elif k == r - 1: xy_train = x1\n",
    "    else: xy_train = np.concatenate([x1, x3], axis=0)\n",
    "\n",
    "    x_train, y_train = xy_train[:, :-1], xy_train[:, -1].reshape(-1, 1)\n",
    "    x_test, y_test = xy_valid[:, :-1], xy_valid[:, -1].reshape(-1, 1)\n",
    "\n",
    "    return x_train, y_train, x_test, y_test\n",
    "\n"
   ],
   "metadata": {
    "collapsed": false,
    "pycharm": {
     "name": "#%%\n"
    }
   }
  },
  {
   "cell_type": "markdown",
   "source": [
    "***Пункт№8.***<br>\n",
    "Побудова залежності ваг регресії від коефіцієнтів регуляризації.<br>\n",
    "***Пункт№9.***<br>\n",
    "Побудова залежності точності від коефіцієнтів регуляризації.<br>"
   ],
   "metadata": {
    "collapsed": false
   }
  },
  {
   "cell_type": "code",
   "execution_count": 728,
   "outputs": [
    {
     "data": {
      "text/plain": "<Figure size 432x288 with 1 Axes>",
      "image/png": "[encoded data removed]"
     },
     "metadata": {
      "needs_background": "light"
     },
     "output_type": "display_data"
    },
    {
     "data": {
      "text/plain": "<Figure size 432x288 with 1 Axes>",
      "image/png": "[encoded data removed]"
     },
     "metadata": {
      "needs_background": "light"
     },
     "output_type": "display_data"
    }
   ],
   "source": [
    "lr = LogR(num_features=size, alpha=0.1)\n",
    "losses, valid_losses, reg_losses, accuracy = lr.fit_and_check(x_train, y_train, x_test, y_test)\n",
    "\n",
    "plt.figure(1)\n",
    "plt.plot(np.array(losses), np.array(reg_losses))\n",
    "plt.figure(2)\n",
    "plt.plot(np.array(valid_losses), np.array(reg_losses))\n",
    "plt.show()\n"
   ],
   "metadata": {
    "collapsed": false,
    "pycharm": {
     "name": "#%%\n"
    }
   }
  },
  {
   "cell_type": "markdown",
   "source": [
    "***Пункт№10.***<br>\n",
    "Покращення"
   ],
   "metadata": {
    "collapsed": false,
    "pycharm": {
     "name": "#%% md\n"
    }
   }
  },
  {
   "cell_type": "code",
   "execution_count": 728,
   "outputs": [],
   "source": [
    "# TODO\n"
   ],
   "metadata": {
    "collapsed": false,
    "pycharm": {
     "name": "#%%\n"
    }
   }
  },
  {
   "cell_type": "markdown",
   "source": [
    "***Пункт№11.***<br>\n",
    "Висновки\n",
    "\n"
   ],
   "metadata": {
    "collapsed": false
   }
  }
 ],
 "metadata": {
  "kernelspec": {
   "name": "python3",
   "language": "python",
   "display_name": "Python 3"
  },
  "language_info": {
   "codemirror_mode": {
    "name": "ipython",
    "version": 2
   },
   "file_extension": ".py",
   "mimetype": "text/x-python",
   "name": "python",
   "nbconvert_exporter": "python",
   "pygments_lexer": "ipython2",
   "version": "2.7.6"
  }
 },
 "nbformat": 4,
 "nbformat_minor": 0
}