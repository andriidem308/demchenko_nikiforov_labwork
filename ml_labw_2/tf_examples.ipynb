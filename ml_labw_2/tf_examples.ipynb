{
 "nbformat": 4,
 "nbformat_minor": 0,
 "metadata": {
  "colab": {
   "name": "tf_examples.ipynb",
   "provenance": [],
   "collapsed_sections": [],
   "authorship_tag": "ABX9TyMI1ThcQMQ33PYsYLAR4Fhn"
  },
  "kernelspec": {
   "name": "python3",
   "language": "python",
   "display_name": "Python 3"
  },
  "accelerator": "GPU"
 },
 "cells": [
  {
   "cell_type": "markdown",
   "metadata": {
    "id": "hj_CoVuqlRDk"
   },
   "source": [
    "###<b>Лабораторна робота №2</b><br>\n",
    "<i>з машинного навчання<br>\n",
    "виконали студенти 3 курсу<br>\n",
    "групи \"Комп'ютерна математика\"<br>\n",
    "Демченко Андрій та Нікіфоров Олександр</i><hr>\n"
   ]
  },
  {
   "cell_type": "markdown",
   "metadata": {
    "id": "5LdcZFzAl6MA"
   },
   "source": [
    "<u>Імпортуємо необхідні бібліотеки</u>"
   ]
  },
  {
   "cell_type": "code",
   "metadata": {
    "id": "z_q2OjUlmJlQ",
    "executionInfo": {
     "status": "ok",
     "timestamp": 1605775129177,
     "user_tz": -120,
     "elapsed": 1991,
     "user": {
      "displayName": "Andrii Demchenko",
      "photoUrl": "https://lh3.googleusercontent.com/a-/AOh14GgcTqKtLdW9aotOzINUFjmdQl68XrjNbV_WFunZxYk=s64",
      "userId": "17646480303678575950"
     }
    }
   },
   "source": [
    "import tensorflow as tf\n",
    "import matplotlib.pyplot as plt"
   ],
   "execution_count": 6,
   "outputs": []
  },
  {
   "cell_type": "markdown",
   "metadata": {
    "id": "pMs9y9zymRA5"
   },
   "source": [
    "<u>Завантажуємо датасет MNIST</u>"
   ]
  },
  {
   "cell_type": "code",
   "metadata": {
    "id": "8TzjcYY7mc7x",
    "executionInfo": {
     "status": "ok",
     "timestamp": 1605775131215,
     "user_tz": -120,
     "elapsed": 1183,
     "user": {
      "displayName": "Andrii Demchenko",
      "photoUrl": "https://lh3.googleusercontent.com/a-/AOh14GgcTqKtLdW9aotOzINUFjmdQl68XrjNbV_WFunZxYk=s64",
      "userId": "17646480303678575950"
     }
    }
   },
   "source": [
    "mnist = tf.keras.datasets.mnist  # 28x28 images of hand-written digits 0-9\n",
    "(x_train, y_train), (x_test, y_test) = mnist.load_data()"
   ],
   "execution_count": 7,
   "outputs": []
  },
  {
   "cell_type": "markdown",
   "metadata": {
    "id": "vfmOD9ylmhQO"
   },
   "source": [
    "<u>Нормалізуємо дані, визначаємо оптимізатор та регуляризатори</u>"
   ]
  },
  {
   "cell_type": "code",
   "metadata": {
    "id": "Hu3OQKM-m7CU",
    "executionInfo": {
     "status": "ok",
     "timestamp": 1605775133447,
     "user_tz": -120,
     "elapsed": 1195,
     "user": {
      "displayName": "Andrii Demchenko",
      "photoUrl": "https://lh3.googleusercontent.com/a-/AOh14GgcTqKtLdW9aotOzINUFjmdQl68XrjNbV_WFunZxYk=s64",
      "userId": "17646480303678575950"
     }
    }
   },
   "source": [
    "x_train = tf.keras.utils.normalize(x_train, axis=1)\n",
    "x_test = tf.keras.utils.normalize(x_test, axis=1)\n",
    "\n",
    "sgd = tf.keras.optimizers.SGD(lr=0.01, decay=1e-6, momentum=0.9, nesterov=True)\n",
    "\n",
    "regularizations_d = {\n",
    "    'relu' : tf.nn.relu,\n",
    "    'sigmoid' : tf.nn.sigmoid,\n",
    "    'tanh' : tf.nn.tanh\n",
    "}\n",
    "\n",
    "regularizations = [tf.nn.relu, tf.nn.sigmoid, tf.nn.tanh]"
   ],
   "execution_count": 8,
   "outputs": []
  },
  {
   "cell_type": "markdown",
   "metadata": {
    "id": "9Lp0xyj3nfaB"
   },
   "source": [
    "<u>Визначаємо функцію для створення моделі</u>"
   ]
  },
  {
   "cell_type": "code",
   "metadata": {
    "id": "n5Ui-9mfoYoK",
    "executionInfo": {
     "status": "ok",
     "timestamp": 1605775934310,
     "user_tz": -120,
     "elapsed": 1191,
     "user": {
      "displayName": "Andrii Demchenko",
      "photoUrl": "https://lh3.googleusercontent.com/a-/AOh14GgcTqKtLdW9aotOzINUFjmdQl68XrjNbV_WFunZxYk=s64",
      "userId": "17646480303678575950"
     }
    }
   },
   "source": [
    "def create_model(layers_amount, activation):\n",
    "    new_model = tf.keras.models.Sequential()\n",
    "    new_model.add(tf.keras.layers.Flatten())\n",
    "\n",
    "    for k in range(layers_amount):\n",
    "        new_model.add(tf.keras.layers.Dense(32, activation=activation))\n",
    "\n",
    "    new_model.add(tf.keras.layers.Dense(10, activation=tf.nn.softmax))\n",
    "\n",
    "    new_model.compile(\n",
    "        optimizer=sgd,\n",
    "        loss='sparse_categorical_crossentropy',\n",
    "        metrics=['accuracy']\n",
    "    )\n",
    "    \n",
    "    return new_model"
   ],
   "execution_count": 9,
   "outputs": []
  },
  {
   "cell_type": "markdown",
   "metadata": {
    "id": "0YsmcFmSm9nI"
   },
   "source": [
    "<u>Створюємо моделі та навчаємо їх</u>"
   ]
  },
  {
   "cell_type": "code",
   "metadata": {
    "colab": {
     "base_uri": "https://localhost:8080/"
    },
    "id": "dIlg-xaSec0u",
    "executionInfo": {
     "status": "ok",
     "timestamp": 1605776309511,
     "user_tz": -120,
     "elapsed": 372634,
     "user": {
      "displayName": "Andrii Demchenko",
      "photoUrl": "https://lh3.googleusercontent.com/a-/AOh14GgcTqKtLdW9aotOzINUFjmdQl68XrjNbV_WFunZxYk=s64",
      "userId": "17646480303678575950"
     }
    },
    "outputId": "3443910a-ef95-4f41-8eb2-44282faff5e9"
   },
   "source": [
    "models = [create_model(i, a) for i in range(11) for a in regularizations]\n",
    "\n",
    "# for m in models:\n",
    "#     m.fit(x_train, y_train, epochs=3)"
   ],
   "execution_count": 10,
   "outputs": []
  },
  {
   "cell_type": "code",
   "metadata": {
    "colab": {
     "base_uri": "https://localhost:8080/",
     "height": 1000
    },
    "id": "ICT84C6Bek8L",
    "executionInfo": {
     "status": "ok",
     "timestamp": 1605773851963,
     "user_tz": -120,
     "elapsed": 25801,
     "user": {
      "displayName": "Andrii Demchenko",
      "photoUrl": "https://lh3.googleusercontent.com/a-/AOh14GgcTqKtLdW9aotOzINUFjmdQl68XrjNbV_WFunZxYk=s64",
      "userId": "17646480303678575950"
     }
    },
    "outputId": "95e536f9-2711-4e50-8695-dcc1dc843b85"
   },
   "source": [
    "# val_losses, val_accuracies = model.evaluate(x_test, y_test)\n",
    "# print(val_loss, val_acc)\n",
    "\n",
    "# plt.imshow(x_train[0], cmap = plt.cm.binary)\n",
    "\n",
    "# print(x_train[0])\n"
   ],
   "execution_count": 11,
   "outputs": []
  },
  {
   "cell_type": "markdown",
   "metadata": {
    "id": "352GqUXOlPtT"
   },
   "source": [
    ""
   ]
  }
 ]
}