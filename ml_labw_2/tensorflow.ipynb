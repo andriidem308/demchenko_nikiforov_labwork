{
  "nbformat": 4,
  "nbformat_minor": 0,
  "metadata": {
    "colab": {
      "name": "Untitled12.ipynb",
      "provenance": []
    },
    "kernelspec": {
      "name": "python3",
      "display_name": "Python 3"
    }
  },
  "cells": [
    {
      "cell_type": "code",
      "metadata": {
        "id": "8Xl802umaZu6"
      },
      "source": [
        "import tensorflow as tf\n",
        "import numpy as np\n",
        "import matplotlib.pyplot as plt"
      ],
      "execution_count": 1,
      "outputs": []
    },
    {
      "cell_type": "code",
      "metadata": {
        "id": "IJLCeHTmaueB"
      },
      "source": [
        "x = tf.Variable(3.0, name='x')"
      ],
      "execution_count": 2,
      "outputs": []
    },
    {
      "cell_type": "code",
      "metadata": {
        "colab": {
          "base_uri": "https://localhost:8080/"
        },
        "id": "CjvIEwzIbSPq",
        "outputId": "efb5f979-1672-47f7-e752-ec89e6070223"
      },
      "source": [
        "x.numpy()"
      ],
      "execution_count": 4,
      "outputs": [
        {
          "output_type": "execute_result",
          "data": {
            "text/plain": [
              "3.0"
            ]
          },
          "metadata": {
            "tags": []
          },
          "execution_count": 4
        }
      ]
    },
    {
      "cell_type": "code",
      "metadata": {
        "id": "X3f6vqcEbTFq"
      },
      "source": [
        "with tf.GradientTape() as tape:\n",
        "  y = x ** 2"
      ],
      "execution_count": 5,
      "outputs": []
    },
    {
      "cell_type": "code",
      "metadata": {
        "colab": {
          "base_uri": "https://localhost:8080/"
        },
        "id": "fJBfm-gjbftM",
        "outputId": "8bc47d63-b646-477b-c618-659df555175c"
      },
      "source": [
        "y.numpy()"
      ],
      "execution_count": 6,
      "outputs": [
        {
          "output_type": "execute_result",
          "data": {
            "text/plain": [
              "9.0"
            ]
          },
          "metadata": {
            "tags": []
          },
          "execution_count": 6
        }
      ]
    },
    {
      "cell_type": "code",
      "metadata": {
        "id": "jFV28YHKbgwG"
      },
      "source": [
        "grad_dy_dx = tape.gradient(y, x)"
      ],
      "execution_count": 7,
      "outputs": []
    },
    {
      "cell_type": "code",
      "metadata": {
        "colab": {
          "base_uri": "https://localhost:8080/",
          "height": 279
        },
        "id": "UHZz2F3Mbt51",
        "outputId": "bdb9c9b3-dd56-49a0-f75b-fa06897aeb4b"
      },
      "source": [
        "tape.gradient(y, x)"
      ],
      "execution_count": 10,
      "outputs": [
        {
          "output_type": "error",
          "ename": "RuntimeError",
          "evalue": "ignored",
          "traceback": [
            "\u001b[0;31m---------------------------------------------------------------------------\u001b[0m",
            "\u001b[0;31mRuntimeError\u001b[0m                              Traceback (most recent call last)",
            "\u001b[0;32m<ipython-input-10-a7a0c496eca2>\u001b[0m in \u001b[0;36m<module>\u001b[0;34m()\u001b[0m\n\u001b[0;32m----> 1\u001b[0;31m \u001b[0mtape\u001b[0m\u001b[0;34m.\u001b[0m\u001b[0mgradient\u001b[0m\u001b[0;34m(\u001b[0m\u001b[0my\u001b[0m\u001b[0;34m,\u001b[0m \u001b[0mx\u001b[0m\u001b[0;34m)\u001b[0m\u001b[0;34m\u001b[0m\u001b[0;34m\u001b[0m\u001b[0m\n\u001b[0m",
            "\u001b[0;32m/usr/local/lib/python3.6/dist-packages/tensorflow/python/eager/backprop.py\u001b[0m in \u001b[0;36mgradient\u001b[0;34m(self, target, sources, output_gradients, unconnected_gradients)\u001b[0m\n\u001b[1;32m   1012\u001b[0m     \"\"\"\n\u001b[1;32m   1013\u001b[0m     \u001b[0;32mif\u001b[0m \u001b[0mself\u001b[0m\u001b[0;34m.\u001b[0m\u001b[0m_tape\u001b[0m \u001b[0;32mis\u001b[0m \u001b[0;32mNone\u001b[0m\u001b[0;34m:\u001b[0m\u001b[0;34m\u001b[0m\u001b[0;34m\u001b[0m\u001b[0m\n\u001b[0;32m-> 1014\u001b[0;31m       raise RuntimeError(\"GradientTape.gradient can only be called once on \"\n\u001b[0m\u001b[1;32m   1015\u001b[0m                          \"non-persistent tapes.\")\n\u001b[1;32m   1016\u001b[0m     \u001b[0;32mif\u001b[0m \u001b[0mself\u001b[0m\u001b[0;34m.\u001b[0m\u001b[0m_recording\u001b[0m\u001b[0;34m:\u001b[0m\u001b[0;34m\u001b[0m\u001b[0;34m\u001b[0m\u001b[0m\n",
            "\u001b[0;31mRuntimeError\u001b[0m: GradientTape.gradient can only be called once on non-persistent tapes."
          ]
        }
      ]
    },
    {
      "cell_type": "code",
      "metadata": {
        "id": "e99EYXqRbvkP"
      },
      "source": [
        "x1 = tf.Variable(3.0, name='x1')\n",
        "x2 = tf.Variable(5.0, name='x2') + 5"
      ],
      "execution_count": 23,
      "outputs": []
    },
    {
      "cell_type": "code",
      "metadata": {
        "id": "ynw33VD5cEnj"
      },
      "source": [
        "with tf.GradientTape(persistent=True) as tape:\n",
        "  tape.watch(x2)\n",
        "  y1 = x1 ** 2 + x1 * x2 + x2 ** 3 +5\n",
        "  y2 = x1 * x2"
      ],
      "execution_count": 24,
      "outputs": []
    },
    {
      "cell_type": "code",
      "metadata": {
        "id": "poX-yptVcQPq"
      },
      "source": [
        "grads = tape.gradient(y1, [x1, x2])"
      ],
      "execution_count": 25,
      "outputs": []
    },
    {
      "cell_type": "code",
      "metadata": {
        "colab": {
          "base_uri": "https://localhost:8080/"
        },
        "id": "-Hz_mv8IcZRp",
        "outputId": "249ed827-5375-490d-ff2a-4f2f0a605035"
      },
      "source": [
        "grads"
      ],
      "execution_count": 26,
      "outputs": [
        {
          "output_type": "execute_result",
          "data": {
            "text/plain": [
              "[<tf.Tensor: shape=(), dtype=float32, numpy=16.0>,\n",
              " <tf.Tensor: shape=(), dtype=float32, numpy=303.0>]"
            ]
          },
          "metadata": {
            "tags": []
          },
          "execution_count": 26
        }
      ]
    },
    {
      "cell_type": "code",
      "metadata": {
        "id": "8N1FLnmmcafx"
      },
      "source": [
        "X = np.random.randn(100, 5)\n",
        "W = np.random.uniform(size=(5, 1))\n",
        "b = np.random.uniform(size=(1,))\n",
        "Y = X @ W + b"
      ],
      "execution_count": 27,
      "outputs": []
    },
    {
      "cell_type": "code",
      "metadata": {
        "colab": {
          "base_uri": "https://localhost:8080/"
        },
        "id": "p0L5GwuAdQ_Q",
        "outputId": "c7707ed7-f289-48c3-f15a-d08408750593"
      },
      "source": [
        "Y.shape"
      ],
      "execution_count": 28,
      "outputs": [
        {
          "output_type": "execute_result",
          "data": {
            "text/plain": [
              "(100, 1)"
            ]
          },
          "metadata": {
            "tags": []
          },
          "execution_count": 28
        }
      ]
    },
    {
      "cell_type": "code",
      "metadata": {
        "id": "u4PAu1LsdUUO"
      },
      "source": [
        "W_opt = tf.Variable(np.random.randn(5, 1), name='W_opt')\n",
        "b_opt = tf.Variable(np.random.randn(1), name='b_opt')\n",
        "X_tensor = tf.convert_to_tensor(X)\n",
        "Y_tensor = tf.convert_to_tensor(Y)"
      ],
      "execution_count": 32,
      "outputs": []
    },
    {
      "cell_type": "code",
      "metadata": {
        "id": "_UBEbOH4djAf"
      },
      "source": [
        "with tf.GradientTape() as tape:\n",
        "  Y_pred = X_tensor @ W_opt + b_opt\n",
        "  loss = tf.math.reduce_mean((Y_pred - Y_tensor) ** 2)"
      ],
      "execution_count": 33,
      "outputs": []
    },
    {
      "cell_type": "code",
      "metadata": {
        "id": "l21Kk3aHeAgp"
      },
      "source": [
        "grads = tape.gradient(loss, [W_opt, b_opt])"
      ],
      "execution_count": 34,
      "outputs": []
    },
    {
      "cell_type": "code",
      "metadata": {
        "colab": {
          "base_uri": "https://localhost:8080/"
        },
        "id": "Yl2Pz6DreFTR",
        "outputId": "d81d2bd9-3cd1-45a2-c642-7c23da6e5c4c"
      },
      "source": [
        "grads"
      ],
      "execution_count": 35,
      "outputs": [
        {
          "output_type": "execute_result",
          "data": {
            "text/plain": [
              "[<tf.Tensor: shape=(5, 1), dtype=float64, numpy=\n",
              " array([[ 3.6762943 ],\n",
              "        [-3.19679906],\n",
              "        [ 1.15691   ],\n",
              "        [-1.49570636],\n",
              "        [ 0.97979199]])>,\n",
              " <tf.Tensor: shape=(1,), dtype=float64, numpy=array([-2.48020475])>]"
            ]
          },
          "metadata": {
            "tags": []
          },
          "execution_count": 35
        }
      ]
    },
    {
      "cell_type": "code",
      "metadata": {
        "id": "1kqbJfTWeF1r"
      },
      "source": [
        "from tensorflow.keras.models import Model"
      ],
      "execution_count": 36,
      "outputs": []
    },
    {
      "cell_type": "code",
      "metadata": {
        "id": "a9JWmZV6ec9t"
      },
      "source": [
        ""
      ],
      "execution_count": 37,
      "outputs": []
    },
    {
      "cell_type": "code",
      "metadata": {
        "id": "S5b24OtJejPA"
      },
      "source": [
        "model = tf.keras.Sequential()\n",
        "model.add(tf.keras.layers.Dense(10, activation='sigmoid'))\n",
        "model.add(tf.keras.layers.Dense(5, activation='relu'))\n",
        "model.add(tf.keras.layers.Dense(1))\n",
        "model.add_loss(tf.keras.losses.MSE)"
      ],
      "execution_count": 39,
      "outputs": []
    },
    {
      "cell_type": "code",
      "metadata": {
        "id": "nLf8IagffAyp"
      },
      "source": [
        "model = tf.keras.Sequential()\n",
        "model.add(tf.keras.layers.Dense(1))"
      ],
      "execution_count": 46,
      "outputs": []
    },
    {
      "cell_type": "code",
      "metadata": {
        "id": "M7cH7unlfUQN"
      },
      "source": [
        "adam = tf.keras.optimizers.Adam()\n",
        "model.compile(optimizer=adam, loss=tf.keras.losses.MSE)"
      ],
      "execution_count": 47,
      "outputs": []
    },
    {
      "cell_type": "code",
      "metadata": {
        "id": "O5E1AQ6DfeAp"
      },
      "source": [
        "model.fit(X, Y, batch_size=5, epochs=100)"
      ],
      "execution_count": null,
      "outputs": []
    },
    {
      "cell_type": "code",
      "metadata": {
        "colab": {
          "base_uri": "https://localhost:8080/"
        },
        "id": "L7rWKYBHflp4",
        "outputId": "5158f9b5-9aba-4aa7-e45e-52dbb59dcb4b"
      },
      "source": [
        "model.weights"
      ],
      "execution_count": 52,
      "outputs": [
        {
          "output_type": "execute_result",
          "data": {
            "text/plain": [
              "[<tf.Variable 'dense_7/kernel:0' shape=(5, 1) dtype=float32, numpy=\n",
              " array([[0.4441787 ],\n",
              "        [0.5549061 ],\n",
              "        [0.42785734],\n",
              "        [0.58080965],\n",
              "        [0.42778632]], dtype=float32)>,\n",
              " <tf.Variable 'dense_7/bias:0' shape=(1,) dtype=float32, numpy=array([0.8856815], dtype=float32)>]"
            ]
          },
          "metadata": {
            "tags": []
          },
          "execution_count": 52
        }
      ]
    },
    {
      "cell_type": "code",
      "metadata": {
        "colab": {
          "base_uri": "https://localhost:8080/"
        },
        "id": "XuwiPrXvf11q",
        "outputId": "948fc4fb-04b7-410d-d520-91d0ee276d96"
      },
      "source": [
        "W"
      ],
      "execution_count": 53,
      "outputs": [
        {
          "output_type": "execute_result",
          "data": {
            "text/plain": [
              "array([[0.50775586],\n",
              "       [0.74344419],\n",
              "       [0.59611087],\n",
              "       [0.5993095 ],\n",
              "       [0.73721658]])"
            ]
          },
          "metadata": {
            "tags": []
          },
          "execution_count": 53
        }
      ]
    },
    {
      "cell_type": "code",
      "metadata": {
        "colab": {
          "base_uri": "https://localhost:8080/"
        },
        "id": "wz40rMUGgBVH",
        "outputId": "c7319a65-dbef-4a39-c4cd-c4a6e147eaad"
      },
      "source": [
        "b"
      ],
      "execution_count": 54,
      "outputs": [
        {
          "output_type": "execute_result",
          "data": {
            "text/plain": [
              "array([0.98478827])"
            ]
          },
          "metadata": {
            "tags": []
          },
          "execution_count": 54
        }
      ]
    },
    {
      "cell_type": "code",
      "metadata": {
        "id": "nbPKvgfcgDdw"
      },
      "source": [
        "x = tf.keras.layers.Input(shape=5)\n",
        "layer = tf.keras.layers.Dense(5, activation='relu')\n",
        "y4 = layer(x)\n",
        "y5 = layer(x)\n",
        "y1 = tf.keras.layers.Dense(10, activation='sigmoid')(x)\n",
        "y2 = tf.keras.layers.Dense(10)(x)\n",
        "y = y1 + y2 ** 2\n",
        "y3 = tf.keras.layers.Dense(1, activation='relu')(y1)\n",
        "model = Model(inputs=x, outputs=y)"
      ],
      "execution_count": 57,
      "outputs": []
    },
    {
      "cell_type": "code",
      "metadata": {
        "id": "nuSAoe5NgoiN"
      },
      "source": [
        ""
      ],
      "execution_count": null,
      "outputs": []
    }
  ]
}