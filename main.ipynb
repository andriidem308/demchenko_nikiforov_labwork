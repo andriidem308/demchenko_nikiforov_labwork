{
 "cells": [
  {
   "cell_type": "markdown",
   "source": [
    "****Лабораторна робота<br>****\n",
    "*Виконали студенти 3 курсу<br>\n",
    "групи \"Комп'ютерна математика\"<br>\n",
    "Демченко Андрій та Нікіфоров Олександр<br>*\n"
   ],
   "metadata": {
    "collapsed": false,
    "pycharm": {
     "name": "#%% md\n"
    }
   }
  },
  {
   "cell_type": "markdown",
   "source": [
    "1. Імпортуємо потрібні бібліотеки"
   ],
   "metadata": {
    "collapsed": false
   }
  },
  {
   "cell_type": "code",
   "execution_count": 14,
   "outputs": [],
   "source": [
    "import pandas as pd\n",
    "import numpy as np\n",
    "import matplotlib.pyplot as plt"
   ],
   "metadata": {
    "collapsed": false,
    "pycharm": {
     "name": "#%%\n"
    }
   }
  },
  {
   "cell_type": "markdown",
   "source": [
    "2. Читаємо дані із бази данних та виводимо їх"
   ],
   "metadata": {
    "collapsed": false
   }
  },
  {
   "cell_type": "code",
   "execution_count": 15,
   "outputs": [
    {
     "name": "stdout",
     "output_type": "stream",
     "text": [
      "    age  anaemia  creatinine_phosphokinase  diabetes  ejection_fraction  \\\n",
      "0  75.0        0                       582         0                 20   \n",
      "1  55.0        0                      7861         0                 38   \n",
      "2  65.0        0                       146         0                 20   \n",
      "3  50.0        1                       111         0                 20   \n",
      "4  65.0        1                       160         1                 20   \n",
      "\n",
      "   high_blood_pressure  platelets  serum_creatinine  serum_sodium  sex  \\\n",
      "0                    1  265000.00               1.9           130    1   \n",
      "1                    0  263358.03               1.1           136    1   \n",
      "2                    0  162000.00               1.3           129    1   \n",
      "3                    0  210000.00               1.9           137    1   \n",
      "4                    0  327000.00               2.7           116    0   \n",
      "\n",
      "   smoking  time  DEATH_EVENT  \n",
      "0        0     4            1  \n",
      "1        0     6            1  \n",
      "2        1     7            1  \n",
      "3        0     7            1  \n",
      "4        0     8            1  \n"
     ]
    }
   ],
   "source": [
    "dataset = pd.read_csv(\"heart_failure_clinical_records_dataset.csv\")\n",
    "print(dataset.head())\n"
   ],
   "metadata": {
    "collapsed": false,
    "pycharm": {
     "name": "#%%\n"
    }
   }
  },
  {
   "cell_type": "markdown",
   "source": [
    "3. Тут будуть глобальні змінні"
   ],
   "metadata": {
    "collapsed": false
   }
  },
  {
   "cell_type": "code",
   "source": [
    "BATCHSIZE = 32\n",
    "FEATURES_NUM = 5"
   ],
   "metadata": {
    "collapsed": false,
    "pycharm": {
     "name": "#%%\n"
    }
   },
   "execution_count": 16,
   "outputs": []
  },
  {
   "cell_type": "markdown",
   "source": [
    "4. Визначаємо змінні, які будем тренувати"
   ],
   "metadata": {
    "collapsed": false
   }
  },
  {
   "cell_type": "code",
   "execution_count": 17,
   "outputs": [],
   "source": [
    "from utils import normalize, Model\n",
    "\n",
    "features = ['age', 'ejection_fraction', 'serum_creatinine', 'serum_sodium', 'time']\n",
    "X_init = dataset[features]\n",
    "Y_init = dataset[\"DEATH_EVENT\"]\n",
    "\n",
    "X = normalize(X_init)\n",
    "Y = np.asarray(Y_init).copy()\n",
    "\n",
    "x_train, x_test = X[:32], X[32:96]\n",
    "y_train = Y[:32]"
   ],
   "metadata": {
    "collapsed": false,
    "pycharm": {
     "name": "#%%\n"
    }
   }
  },
  {
   "cell_type": "markdown",
   "source": [
    "5. Створюємо та тренуємо модель"
   ],
   "metadata": {
    "collapsed": false
   }
  },
  {
   "cell_type": "code",
   "execution_count": 18,
   "outputs": [],
   "source": [
    "model = Model(batch_size=BATCHSIZE, num_features=FEATURES_NUM)\n",
    "model.fit(x_train, y_train)"
   ],
   "metadata": {
    "collapsed": false,
    "pycharm": {
     "name": "#%%\n"
    }
   }
  },
  {
   "cell_type": "markdown",
   "source": [
    "6. Тестуємо модель"
   ],
   "metadata": {
    "collapsed": false
   }
  },
  {
   "cell_type": "code",
   "execution_count": 19,
   "outputs": [
    {
     "name": "stdout",
     "output_type": "stream",
     "text": [
      "[[-18.18138007]\n",
      " [-24.09872718]\n",
      " [-34.64979848]\n",
      " [-31.01081571]\n",
      " [-39.94923366]\n",
      " [-44.35129143]\n",
      " [-27.91184137]\n",
      " [-33.24694405]\n",
      " [-27.43524873]\n",
      " [-22.76853433]\n",
      " [-35.05889127]\n",
      " [-33.24878159]\n",
      " [-36.08826298]\n",
      " [-24.08774936]\n",
      " [-17.9958635 ]\n",
      " [-28.96528704]\n",
      " [-32.28968984]\n",
      " [-27.97055156]\n",
      " [-29.7967563 ]\n",
      " [-24.2093284 ]\n",
      " [-43.08177983]\n",
      " [-32.5492809 ]\n",
      " [-26.0499318 ]\n",
      " [-37.48758145]\n",
      " [-33.62464932]\n",
      " [-29.39938967]\n",
      " [-20.54910604]\n",
      " [-29.28034925]\n",
      " [-21.96203069]\n",
      " [-22.15558124]\n",
      " [-27.63503056]\n",
      " [-27.87003127]\n",
      " [-31.0685197 ]\n",
      " [-19.87531849]\n",
      " [-17.17952723]\n",
      " [-32.72420526]\n",
      " [-33.46188211]\n",
      " [-27.33139537]\n",
      " [-23.85174668]\n",
      " [-28.6637697 ]\n",
      " [-34.10593792]\n",
      " [-33.02167736]\n",
      " [-26.80944934]\n",
      " [-26.46873452]\n",
      " [-38.44309686]\n",
      " [-24.52303018]\n",
      " [-30.00299496]\n",
      " [-30.10423705]\n",
      " [-32.62544388]\n",
      " [-33.70254364]\n",
      " [-23.9518695 ]\n",
      " [-35.92387684]\n",
      " [-28.60211059]\n",
      " [-29.4346346 ]\n",
      " [-26.37232869]\n",
      " [-36.59943594]\n",
      " [-24.27731813]\n",
      " [-29.94295514]\n",
      " [-32.96985088]\n",
      " [-27.3625881 ]\n",
      " [-26.27933374]\n",
      " [-25.44118351]\n",
      " [-31.15471909]\n",
      " [-34.81359182]]\n"
     ]
    }
   ],
   "source": [
    "y_test = model.predict(x_test)\n",
    "print(y_test)\n"
   ],
   "metadata": {
    "collapsed": false,
    "pycharm": {
     "name": "#%%\n"
    }
   }
  },
  {
   "cell_type": "markdown",
   "source": [],
   "metadata": {
    "collapsed": false
   }
  }
 ],
 "metadata": {
  "kernelspec": {
   "name": "pycharm-fb84de0e",
   "language": "python",
   "display_name": "PyCharm (machine_learning)"
  },
  "language_info": {
   "codemirror_mode": {
    "name": "ipython",
    "version": 2
   },
   "file_extension": ".py",
   "mimetype": "text/x-python",
   "name": "python",
   "nbconvert_exporter": "python",
   "pygments_lexer": "ipython2",
   "version": "2.7.6"
  }
 },
 "nbformat": 4,
 "nbformat_minor": 0
}