{
 "cells": [
  {
   "cell_type": "markdown",
   "metadata": {
    "collapsed": true,
    "pycharm": {
     "name": "#%% md\n"
    }
   },
   "source": [
    "***Лабораторна робота №1<br>***\n",
    "*Виконали студенти 3 курсу<br>\n",
    "групи \"Комп'ютерна математика\"<br>\n",
    "Демченко Андрій та Нікіфоров Олександр<br>*\n"
   ]
  },
  {
   "cell_type": "markdown",
   "source": [
    "Імпортуємо потрібні бібліотеки"
   ],
   "metadata": {
    "collapsed": false
   }
  },
  {
   "cell_type": "code",
   "execution_count": 1,
   "outputs": [],
   "source": [
    "import numpy as np\n",
    "import pandas as pd\n",
    "import matplotlib.pyplot as plt"
   ],
   "metadata": {
    "collapsed": false,
    "pycharm": {
     "name": "#%%\n"
    }
   }
  },
  {
   "cell_type": "markdown",
   "source": [
    "Глобальні змінні"
   ],
   "metadata": {
    "collapsed": false
   }
  },
  {
   "cell_type": "code",
   "execution_count": 2,
   "outputs": [],
   "source": [
    "N_TRAIN = 150\n",
    "N_TEST = 20"
   ],
   "metadata": {
    "collapsed": false,
    "pycharm": {
     "name": "#%%\n"
    }
   }
  },
  {
   "cell_type": "markdown",
   "source": [
    "***Пункт№1.***<br>\n",
    "Завантажуємо дані з файлу в датасет та виводимо дані.\n",
    "Якщо уважно проаналізувати даний датасет,\n",
    "можна помітити що параметри датасета є нерівноцінними."
   ],
   "metadata": {
    "collapsed": false
   }
  },
  {
   "cell_type": "code",
   "execution_count": 3,
   "outputs": [
    {
     "name": "stdout",
     "output_type": "stream",
     "text": [
      "    age  anaemia  creatinine_phosphokinase  diabetes  ejection_fraction  \\\n",
      "0  75.0        0                       582         0                 20   \n",
      "1  55.0        0                      7861         0                 38   \n",
      "2  65.0        0                       146         0                 20   \n",
      "3  50.0        1                       111         0                 20   \n",
      "4  65.0        1                       160         1                 20   \n",
      "\n",
      "   high_blood_pressure  platelets  serum_creatinine  serum_sodium  sex  \\\n",
      "0                    1  265000.00               1.9           130    1   \n",
      "1                    0  263358.03               1.1           136    1   \n",
      "2                    0  162000.00               1.3           129    1   \n",
      "3                    0  210000.00               1.9           137    1   \n",
      "4                    0  327000.00               2.7           116    0   \n",
      "\n",
      "   smoking  time  DEATH_EVENT  \n",
      "0        0     4            1  \n",
      "1        0     6            1  \n",
      "2        1     7            1  \n",
      "3        0     7            1  \n",
      "4        0     8            1  \n"
     ]
    }
   ],
   "source": [
    "dataset = pd.read_csv('heart_failure_clinical_records_dataset.csv')\n",
    "titles = ['age', 'anaemia', 'creatinine_phosphokinase', 'diabetes',\n",
    "          'ejection_fraction', 'high_blood_pressure', 'platelets',\n",
    "          'serum_creatinine', 'serum_sodium', 'sex', 'smoking', 'time']\n",
    "print(dataset.head())\n",
    "\n",
    "# FEATURE_NAMES = ['age', 'anaemia', 'high_blood_pressure', 'serum_sodium', 'sex', 'smoking']\n",
    "FEATURE_NAMES = ['age', 'creatinine_phosphokinase', 'ejection_fraction', 'platelets',\n",
    "                 'serum_creatinine', 'serum_sodium', 'time']\n",
    "size = len(FEATURE_NAMES)\n",
    "\n",
    "x_df = np.array(dataset[FEATURE_NAMES]).reshape((299, size))\n",
    "y_df = np.asarray(dataset['DEATH_EVENT'])\n",
    "\n",
    "xy_shuffled = np.c_[x_df, y_df]\n",
    "np.random.shuffle(xy_shuffled)\n",
    "\n",
    "x_shuffled, y_shuffled = xy_shuffled[:, :size], xy_shuffled[:, size:]\n"
   ],
   "metadata": {
    "collapsed": false,
    "pycharm": {
     "name": "#%%\n"
    }
   }
  },
  {
   "cell_type": "markdown",
   "source": [
    "***Пункт№3.***<br>\n",
    "Оптимізатор Momentum.<br>"
   ],
   "metadata": {
    "collapsed": false
   }
  },
  {
   "cell_type": "code",
   "execution_count": 4,
   "outputs": [],
   "source": [
    "class Momentum:\n",
    "    def __init__(self, num_features=1, l_rate=0.01):\n",
    "        self.m = np.zeros((num_features, 1))\n",
    "        self.l_rate = l_rate\n",
    "\n",
    "    def optimize_weights(self, weights, grads):\n",
    "        self.m = (1 - self.l_rate) * self.m + self.l_rate * grads\n",
    "        new_weights = weights - self.m\n",
    "\n",
    "        return new_weights"
   ],
   "metadata": {
    "collapsed": false,
    "pycharm": {
     "name": "#%%\n"
    }
   }
  },
  {
   "cell_type": "markdown",
   "source": [
    "***Пункт№2.***<br>\n",
    "Логістична регресія з регуляризацією L1.<br>"
   ],
   "metadata": {
    "collapsed": false
   }
  },
  {
   "cell_type": "code",
   "execution_count": 5,
   "outputs": [],
   "source": [
    "class L1:\n",
    "    def __init__(self, num_features=1, alpha=0.1):\n",
    "        self.weights = np.zeros((num_features, 1))\n",
    "        self.optimizer = Momentum(num_features)\n",
    "        self.epsilon = 0.001\n",
    "        self.alpha = alpha\n",
    "\n",
    "    def predict(self, X):\n",
    "        y = 1 / (1 + np.exp(- (X @ self.weights)))\n",
    "        return y\n",
    "\n",
    "    def predict_proba(self, X):\n",
    "        y = self.predict(X)\n",
    "        return np.where(y >= 0.5, 1, 0)\n",
    "\n",
    "    @staticmethod\n",
    "    def loss_norm( arr):\n",
    "        res = np.inf\n",
    "        if len(arr) > 2:\n",
    "            res = np.abs(np.mean(arr) - np.mean(arr[:-1]))\n",
    "        return res\n",
    "\n",
    "    @staticmethod\n",
    "    def batch_split(X, Y, size):\n",
    "        features = np.c_[X, Y]\n",
    "        np.random.shuffle(features)\n",
    "        features = np.array(np.split(features, range(size, features.shape[0], size)))\n",
    "        return features\n",
    "\n",
    "    def fit_batches(self, X, y_true, size=32, epochs=10000, epsilon=0.0001):\n",
    "        epoch_num = 0\n",
    "        losses = []\n",
    "        reg_losses = []\n",
    "        while (epoch_num < epochs) and (self.loss_norm(losses) > epsilon):\n",
    "            epoch_num += 1\n",
    "            current_losses = []\n",
    "            current_reg_losses = []\n",
    "            mini_batches = self.batch_split(X, y_true, size)\n",
    "            for batch in mini_batches:\n",
    "                x_small, y_small = batch[:, :-1], batch[:, -1].reshape(-1, 1)\n",
    "                loss, grads, reg_loss = self.one_step_opt(x_small, y_small)\n",
    "                current_losses.append(loss)\n",
    "                current_reg_losses.append(reg_loss)\n",
    "            losses.append(np.mean(current_losses))\n",
    "            reg_losses.append(np.mean(current_reg_losses))\n",
    "        return np.array(losses), np.array(reg_losses)\n",
    "\n",
    "    def one_step_opt(self, X, y_true):\n",
    "        grad_reg = self.alpha * np.sign(self.weights)\n",
    "        grad_reg[0, 0] = 0\n",
    "        reg_loss = np.sum(self.alpha * np.abs(self.weights)) ###\n",
    "        grads = - X.T @ (y_true - X @ self.weights) / X.shape[0] + grad_reg ###\n",
    "        self.weights = self.optimizer.optimize_weights(self.weights, grads)\n",
    "\n",
    "        loss = np.sum((y_true - self.predict(X)).T @ (y_true - self.predict(X))) / X.shape[0]\n",
    "        return loss, grads, reg_loss\n",
    "\n",
    "    def fit(self, x_train, y_train, epochs=10000, epsilon=0.00001):\n",
    "        losses = []\n",
    "        epoch_num = 0\n",
    "        while (epoch_num < epochs) and (self.loss_norm(losses) > epsilon):\n",
    "            epoch_num += 1\n",
    "            t_loss, grads, reg_loss = self.one_step_opt(x_train, y_train)\n",
    "\n",
    "            losses.append(t_loss)\n",
    "\n",
    "        return losses\n",
    "\n",
    "    def fit_and_check(self, x_train, y_train, x_valid, y_valid, epochs=10000, epsilon=0.00001):\n",
    "        losses = []\n",
    "        valid_losses = []\n",
    "        reg_losses = []\n",
    "        epoch_num = 0\n",
    "        while (epoch_num < epochs) and (self.loss_norm(losses) > epsilon):\n",
    "            epoch_num += 1\n",
    "            t_loss, grads, reg_loss = self.one_step_opt(x_train, y_train)\n",
    "            pr=self.predict(x_valid)\n",
    "            losses.append(t_loss)\n",
    "            reg_losses.append(reg_loss)\n",
    "            v_loss = np.sum(-y_valid * np.log(pr + self.epsilon) - (1 - y_valid) * np.log(1 - pr + self.epsilon)) / x_valid.shape[0]\n",
    "            valid_losses.append(v_loss)\n",
    "        y_true = self.predict_proba(x_valid)\n",
    "        accuracy = np.sum(np.where(y_valid == y_true, 1, 0)) / y_valid.shape[0]\n",
    "        y_t = self.predict(x_valid)\n",
    "        return losses, valid_losses, reg_losses, accuracy\n"
   ],
   "metadata": {
    "collapsed": false,
    "pycharm": {
     "name": "#%%\n"
    }
   }
  },
  {
   "cell_type": "markdown",
   "source": [
    "***Пункт№5.***<br>\n",
    "Вчимо побудовану модель з параметром регуляризації 0 (без регуляризації) і переконуємось, що вона коректно навчилась.<br>\n",
    "***Пункт№6.***<br>\n",
    "Нормалізація данних min-max. Побудування моделі з пункта №5. Порівняння швидкостей. Графіки втрат по ітераціям.<br>"
   ],
   "metadata": {
    "collapsed": false
   }
  },
  {
   "cell_type": "code",
   "execution_count": 6,
   "outputs": [
    {
     "data": {
      "text/plain": "<Figure size 432x288 with 1 Axes>",
      "image/png": "[encoded data removed]"
     },
     "metadata": {
      "needs_background": "light"
     },
     "output_type": "display_data"
    }
   ],
   "source": [
    "def normalize(X):\n",
    "    min_f = np.amin(X, axis=0)\n",
    "    max_f = np.amax(X, axis=0)\n",
    "    result = (X - min_f) / (max_f - min_f)\n",
    "    return result\n",
    "\n",
    "x = normalize(x_shuffled)\n",
    "y = y_shuffled[:]\n",
    "\n",
    "x_train, y_train, = x[:N_TRAIN], y[:N_TRAIN].reshape(N_TRAIN, 1)\n",
    "x_test, y_test = x[N_TRAIN:N_TRAIN + N_TEST], y[N_TRAIN:N_TRAIN + N_TEST].reshape(N_TEST, 1)\n",
    "\n",
    "model = L1(num_features=size, alpha=0)\n",
    "losses = model.fit(x_train, y_train)\n",
    "plt.plot(losses)\n",
    "plt.show()\n",
    "\n"
   ],
   "metadata": {
    "collapsed": false,
    "pycharm": {
     "name": "#%%\n"
    }
   }
  },
  {
   "cell_type": "markdown",
   "source": [
    "***Пункт№4.***<br>\n",
    "Реалізуємо mini-batch навчання з розміром батча B=32.<br>"
   ],
   "metadata": {
    "collapsed": false
   }
  },
  {
   "cell_type": "code",
   "execution_count": 7,
   "outputs": [
    {
     "name": "stderr",
     "output_type": "stream",
     "text": [
      "<ipython-input-5-b5c0928d2924>:27: VisibleDeprecationWarning: Creating an ndarray from ragged nested sequences (which is a list-or-tuple of lists-or-tuples-or ndarrays with different lengths or shapes) is deprecated. If you meant to do this, you must specify 'dtype=object' when creating the ndarray\n",
      "  features = np.array(np.split(features, range(size, features.shape[0], size)))\n"
     ]
    },
    {
     "data": {
      "text/plain": "<Figure size 432x288 with 1 Axes>",
      "image/png": "[encoded data removed]"
     },
     "metadata": {
      "needs_background": "light"
     },
     "output_type": "display_data"
    },
    {
     "data": {
      "text/plain": "<Figure size 432x288 with 1 Axes>",
      "image/png": "[encoded data removed]"
     },
     "metadata": {
      "needs_background": "light"
     },
     "output_type": "display_data"
    }
   ],
   "source": [
    "BATCH_SIZE = 32\n",
    "model = L1(num_features=size, alpha=0.1)\n",
    "losses, reg_losses = model.fit_batches(x_train, y_train, size=BATCH_SIZE)\n",
    "\n",
    "plt.figure(1)\n",
    "plt.plot(losses)\n",
    "plt.figure(2)\n",
    "plt.plot(reg_losses)\n",
    "plt.show()\n"
   ],
   "metadata": {
    "collapsed": false,
    "pycharm": {
     "name": "#%%\n"
    }
   }
  },
  {
   "cell_type": "markdown",
   "source": [
    "***Пункт№7.***<br>\n",
    "Реалізація оцінки точності за допомогою метода кросс-валідації з K=5 фолдами, без регуляризації."
   ],
   "metadata": {
    "collapsed": false
   }
  },
  {
   "cell_type": "code",
   "execution_count": 8,
   "outputs": [],
   "source": [
    "#TODO"
   ],
   "metadata": {
    "collapsed": false,
    "pycharm": {
     "name": "#%%\n"
    }
   }
  },
  {
   "cell_type": "markdown",
   "source": [
    "***Пункт№8.***<br>\n",
    "Побудова залежності ваг регресії від коефіцієнтів регуляризації.<br>\n",
    "***Пункт№9.***<br>\n",
    "Побудова залежності точності від коефіцієнтів регуляризації.<br>"
   ],
   "metadata": {
    "collapsed": false
   }
  },
  {
   "cell_type": "code",
   "execution_count": 9,
   "outputs": [
    {
     "data": {
      "text/plain": "<Figure size 432x288 with 1 Axes>",
      "image/png": "[encoded data removed]"
     },
     "metadata": {
      "needs_background": "light"
     },
     "output_type": "display_data"
    },
    {
     "data": {
      "text/plain": "<Figure size 432x288 with 1 Axes>",
      "image/png": "[encoded data removed]"
     },
     "metadata": {
      "needs_background": "light"
     },
     "output_type": "display_data"
    }
   ],
   "source": [
    "model = L1(num_features=size, alpha=0.1)\n",
    "losses, valid_losses, reg_losses, accuracy = model.fit_and_check(x_train, y_train, x_test, y_test)\n",
    "\n",
    "plt.figure(1)\n",
    "plt.plot(np.array(losses), np.array(reg_losses), \"og\")\n",
    "plt.figure(2)\n",
    "plt.plot(np.array(valid_losses), np.array(reg_losses), \"or\")\n",
    "plt.show()\n"
   ],
   "metadata": {
    "collapsed": false,
    "pycharm": {
     "name": "#%%\n"
    }
   }
  },
  {
   "cell_type": "markdown",
   "source": [
    "***Пункт№10.***<br>\n",
    "Покращення"
   ],
   "metadata": {
    "collapsed": false,
    "pycharm": {
     "name": "#%% md\n"
    }
   }
  },
  {
   "cell_type": "code",
   "execution_count": 10,
   "outputs": [],
   "source": [
    "# TODO\n"
   ],
   "metadata": {
    "collapsed": false,
    "pycharm": {
     "name": "#%%\n"
    }
   }
  },
  {
   "cell_type": "markdown",
   "source": [
    "***Пункт№11.***<br>\n",
    "Висновки:\n",
    "Під час виконання цієї лабораторної роботи,\n",
    "ми вивчили логістичну регресію L1,\n",
    "оптимізатор Momentum та нормалізацію min-max,\n",
    "зрозуміли що таке Underfir и Overfit,\n",
    "переконалися що регуляризація L1 може зануляти параметри\n",
    "та сильно зменшувати параметри моделі.\n",
    "Також ми зрозуміли, що для вдалого машинного навчання,\n",
    "не слід використовувати всі данні датасету, бо вони мають різний вплив на результат.\n"
   ],
   "metadata": {
    "collapsed": false
   }
  }
 ],
 "metadata": {
  "kernelspec": {
   "name": "pycharm-64321ef7",
   "language": "python",
   "display_name": "PyCharm (demchenko_nikiforov_labwork)"
  },
  "language_info": {
   "codemirror_mode": {
    "name": "ipython",
    "version": 2
   },
   "file_extension": ".py",
   "mimetype": "text/x-python",
   "name": "python",
   "nbconvert_exporter": "python",
   "pygments_lexer": "ipython2",
   "version": "2.7.6"
  }
 },
 "nbformat": 4,
 "nbformat_minor": 0
}